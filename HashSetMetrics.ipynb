{
 "cells": [
  {
   "cell_type": "code",
   "execution_count": 8,
   "id": "553d1c41",
   "metadata": {},
   "outputs": [],
   "source": [
    "from timeit import default_timer as timer\n",
    "import matplotlib.pyplot as plt"
   ]
  },
  {
   "cell_type": "code",
   "execution_count": 37,
   "id": "fb39e975",
   "metadata": {},
   "outputs": [],
   "source": [
    "arr = []\n",
    "NUM_ITER = 1000000"
   ]
  },
  {
   "cell_type": "code",
   "execution_count": 38,
   "id": "ba1893a7",
   "metadata": {},
   "outputs": [],
   "source": [
    "class MySet():\n",
    "    \n",
    "    def __init__(self):\n",
    "        self.total = 0\n",
    "        self.num_buckets = 4\n",
    "        self.buckets = [[] for _ in range(self.num_buckets)]\n",
    "        \n",
    "    def add(self, item):\n",
    "        idx = item % self.num_buckets\n",
    "        self.buckets[idx].append(item)\n",
    "        \n",
    "    def load_factor(self):\n",
    "        return self.total / self.num_buckets\n",
    "        "
   ]
  },
  {
   "cell_type": "code",
   "execution_count": 39,
   "id": "02f44926",
   "metadata": {},
   "outputs": [],
   "source": [
    "times = []\n",
    "\n",
    "seen = set()\n",
    "\n",
    "for i in range(NUM_ITER):\n",
    "    start = timer()\n",
    "\n",
    "    seen.add(i)\n",
    "    \n",
    "    end = timer()\n",
    "    \n",
    "    times.append(end - start)\n",
    "\n"
   ]
  },
  {
   "cell_type": "code",
   "execution_count": 40,
   "id": "24d6f56a",
   "metadata": {},
   "outputs": [
    {
     "data": {
      "text/plain": [
       "[<matplotlib.lines.Line2D at 0x7f7e7856c4f0>]"
      ]
     },
     "execution_count": 40,
     "metadata": {},
     "output_type": "execute_result"
    },
    {
     "data": {
      "image/png": "[encoded data removed]",
      "text/plain": [
       "<Figure size 432x288 with 1 Axes>"
      ]
     },
     "metadata": {
      "needs_background": "light"
     },
     "output_type": "display_data"
    }
   ],
   "source": [
    "plt.plot(times)"
   ]
  },
  {
   "cell_type": "code",
   "execution_count": null,
   "id": "a6b170d6",
   "metadata": {},
   "outputs": [],
   "source": []
  }
 ],
 "metadata": {
  "kernelspec": {
   "display_name": "Python 3 (ipykernel)",
   "language": "python",
   "name": "python3"
  },
  "language_info": {
   "codemirror_mode": {
    "name": "ipython",
    "version": 3
   },
   "file_extension": ".py",
   "mimetype": "text/x-python",
   "name": "python",
   "nbconvert_exporter": "python",
   "pygments_lexer": "ipython3",
   "version": "3.9.12"
  }
 },
 "nbformat": 4,
 "nbformat_minor": 5
}
